{
  "cells": [
    {
      "cell_type": "code",
      "execution_count": null,
      "metadata": {
        "id": "kMoFECKDarYE"
      },
      "outputs": [],
      "source": [
        "import pandas as pd\n",
        "import numpy as np\n",
        "import matplotlib.pyplot as plt\n",
        "import seaborn as sns\n",
        "%matplotlib inline"
      ]
    },
    {
      "cell_type": "code",
      "execution_count": null,
      "metadata": {
        "colab": {
          "base_uri": "https://localhost:8080/",
          "height": 206
        },
        "id": "XJT7DOSYa8fk",
        "outputId": "a7c1d9db-6121-42a8-f659-77eb413ea379"
      },
      "outputs": [],
      "source": [
        "df=pd.read_csv('data_student.csv')\n",
        "df.head()"
      ]
    },
    {
      "cell_type": "code",
      "execution_count": null,
      "metadata": {
        "colab": {
          "base_uri": "https://localhost:8080/"
        },
        "id": "aqOFOKqdbMa1",
        "outputId": "776c5075-b448-4800-8323-912ed684d8fc"
      },
      "outputs": [],
      "source": [
        "df.shape"
      ]
    },
    {
      "cell_type": "code",
      "execution_count": null,
      "metadata": {
        "colab": {
          "base_uri": "https://localhost:8080/"
        },
        "id": "tssaCo4VbPGM",
        "outputId": "4be3fac5-f41d-4773-ead5-7fe0aef6eaf6"
      },
      "outputs": [],
      "source": [
        "df.info()"
      ]
    },
    {
      "cell_type": "code",
      "execution_count": null,
      "metadata": {
        "id": "gV4IhVGWbby8"
      },
      "outputs": [],
      "source": [
        "df.columns = df.columns.str.strip()"
      ]
    },
    {
      "cell_type": "code",
      "execution_count": null,
      "metadata": {
        "id": "oB8VE31KbRpD"
      },
      "outputs": [],
      "source": [
        "from sklearn.preprocessing import LabelEncoder,OneHotEncoder\n",
        "#le=LabelEncoder()\n",
        "#df['UNS']=le.fit_transform(df['UNS'])"
      ]
    },
    {
      "cell_type": "code",
      "execution_count": null,
      "metadata": {
        "colab": {
          "base_uri": "https://localhost:8080/",
          "height": 206
        },
        "id": "2a170aef",
        "outputId": "d41c2525-a29e-4578-eb11-cdabf23d6c33"
      },
      "outputs": [],
      "source": [
        "df.head()"
      ]
    },
    {
      "cell_type": "code",
      "execution_count": null,
      "metadata": {
        "colab": {
          "base_uri": "https://localhost:8080/",
          "height": 272
        },
        "id": "J5BhpDFwcM4-",
        "outputId": "6ee1b187-fa08-4e57-b0b2-7c0104051d34"
      },
      "outputs": [],
      "source": [
        "df.isnull().sum()"
      ]
    },
    {
      "cell_type": "code",
      "execution_count": null,
      "metadata": {
        "colab": {
          "base_uri": "https://localhost:8080/",
          "height": 664
        },
        "id": "nL6_is9EcQZE",
        "outputId": "74f30d83-c4d8-4112-844b-e25313dcada4"
      },
      "outputs": [],
      "source": [
        "sns.pairplot(df)"
      ]
    },
    {
      "cell_type": "code",
      "execution_count": null,
      "metadata": {
        "colab": {
          "base_uri": "https://localhost:8080/",
          "height": 1000
        },
        "id": "7QlPixWOcgIL",
        "outputId": "f8885e0c-d336-4046-a367-24a33cd83155"
      },
      "outputs": [],
      "source": [
        "for col in df.columns:\n",
        "    if col=='UNS':continue\n",
        "    plt.figure(figsize=(4, 2))\n",
        "    sns.kdeplot(df[col],fill=True)\n",
        "    plt.title(f'KDE Plot of {col}')"
      ]
    },
    {
      "cell_type": "code",
      "execution_count": null,
      "metadata": {
        "colab": {
          "base_uri": "https://localhost:8080/",
          "height": 447
        },
        "id": "iDY-HDH_dVU-",
        "outputId": "c9274bf9-98e3-45a3-d27d-2fc28b388ef5"
      },
      "outputs": [],
      "source": [
        "sns.boxplot(data=df)"
      ]
    },
    {
      "cell_type": "code",
      "execution_count": null,
      "metadata": {
        "id": "8qiR4zk4hC24"
      },
      "outputs": [],
      "source": [
        "X=df.drop('UNS',axis=1)"
      ]
    },
    {
      "cell_type": "code",
      "execution_count": null,
      "metadata": {
        "id": "4oCgqQWiddxV"
      },
      "outputs": [],
      "source": [
        "from sklearn.preprocessing import StandardScaler\n",
        "scaler=StandardScaler()\n",
        "df_scaled=scaler.fit_transform(X)"
      ]
    },
    {
      "cell_type": "code",
      "execution_count": null,
      "metadata": {
        "colab": {
          "base_uri": "https://localhost:8080/"
        },
        "id": "bDGqVCjud2Bt",
        "outputId": "fdac6521-1bdb-425a-9642-0ef7ef25eae8"
      },
      "outputs": [],
      "source": [
        "from sklearn.impute import SimpleImputer\n",
        "from sklearn.compose import ColumnTransformer\n",
        "from sklearn.pipeline import Pipeline\n",
        "from sklearn.decomposition import PCA\n",
        "from sklearn.cluster import KMeans\n",
        "from sklearn.metrics import silhouette_score, calinski_harabasz_score, davies_bouldin_score\n",
        "num_cols = [c for c in X.columns if np.issubdtype(X[c].dtype, np.number)]\n",
        "cat_cols = [c for c in X.columns if c not in num_cols]\n",
        "\n",
        "preprocess = ColumnTransformer([\n",
        "    (\"num\", Pipeline([\n",
        "        (\"imp\", SimpleImputer(strategy=\"median\")),\n",
        "        (\"sc\", StandardScaler())\n",
        "    ]), num_cols),\n",
        "    (\"cat\", Pipeline([\n",
        "        (\"imp\", SimpleImputer(strategy=\"most_frequent\")),\n",
        "        (\"oh\", OneHotEncoder(handle_unknown=\"ignore\"))\n",
        "    ]), cat_cols)\n",
        "])\n",
        "\n",
        "X_proc = preprocess.fit_transform(X)\n",
        "\n",
        "pca = PCA(n_components=2, random_state=42)\n",
        "X2 = pca.fit_transform(X_proc.toarray() if hasattr(X_proc, \"toarray\") else X_proc)\n",
        "\n",
        "best_k, best_model, best_score = None, None, -1\n",
        "for k in range(4,5):\n",
        "    km = KMeans(n_clusters=k, n_init=10, random_state=42)\n",
        "    labels = km.fit_predict(X_proc)\n",
        "    sil = silhouette_score(X_proc, labels)\n",
        "    if sil > best_score:\n",
        "        best_k, best_model, best_score = k, km, sil\n",
        "\n",
        "labels = best_model.labels_\n",
        "\n",
        "silhouette = silhouette_score(X_proc, labels)\n",
        "calinski = calinski_harabasz_score(X_proc, labels)\n",
        "davies = davies_bouldin_score(X_proc, labels)\n",
        "\n",
        "print(f\"Best K: {best_k}\")\n",
        "print(f\"Silhouette Score: {silhouette:.3f}\")\n",
        "print(f\"Calinski-Harabasz Score: {calinski:.3f}\")\n",
        "print(f\"Davies-Bouldin Score: {davies:.3f}\")\n",
        "\n"
      ]
    },
    {
      "cell_type": "code",
      "execution_count": null,
      "metadata": {
        "colab": {
          "base_uri": "https://localhost:8080/",
          "height": 487
        },
        "id": "XwVL3fahfYil",
        "outputId": "7228243f-ce28-4f6f-916f-a7f83040097f"
      },
      "outputs": [],
      "source": [
        "plt.figure(figsize=(7,5))\n",
        "for lab in np.unique(labels):\n",
        "    mask = labels == lab\n",
        "    plt.scatter(X2[mask,0], X2[mask,1], s=30, label=f\"Cluster {lab}\")\n",
        "plt.title(f\"KMeans Clusters (k={best_k})\")\n",
        "plt.xlabel(\"PC1\")\n",
        "plt.ylabel(\"PC2\")\n",
        "plt.legend()\n",
        "plt.show()"
      ]
    },
    {
      "cell_type": "code",
      "execution_count": null,
      "metadata": {
        "colab": {
          "base_uri": "https://localhost:8080/"
        },
        "id": "g6nXPJsGilmO",
        "outputId": "217e30ff-f8af-4838-9c3c-ff89d620f852"
      },
      "outputs": [],
      "source": [
        "from sklearn.cluster import AgglomerativeClustering\n",
        "\n",
        "\n",
        "X_proc_dense = X_proc.toarray() if hasattr(X_proc, \"toarray\") else X_proc\n",
        "\n",
        "pca = PCA(n_components=2, random_state=42)\n",
        "X2 = pca.fit_transform(X_proc_dense)\n",
        "\n",
        "best_k, best_model, best_score = None, None, -1\n",
        "for k in range(2,5):\n",
        "    hc = AgglomerativeClustering(n_clusters=k, linkage=\"ward\")\n",
        "    labels = hc.fit_predict(X_proc_dense)\n",
        "    sil = silhouette_score(X_proc_dense, labels)\n",
        "    if sil > best_score:\n",
        "        best_k, best_model, best_score = k, hc, sil\n",
        "\n",
        "labels = best_model.fit_predict(X_proc_dense)\n",
        "\n",
        "print(f\"Best k: {best_k}\")\n",
        "print(\"Silhouette Score:\", silhouette_score(X_proc_dense, labels))\n",
        "print(\"Calinski-Harabasz Score:\", calinski_harabasz_score(X_proc_dense, labels))\n",
        "print(\"Davies-Bouldin Score:\", davies_bouldin_score(X_proc_dense, labels))"
      ]
    },
    {
      "cell_type": "code",
      "execution_count": null,
      "metadata": {
        "colab": {
          "base_uri": "https://localhost:8080/",
          "height": 487
        },
        "id": "X7sq0ArvjDld",
        "outputId": "a63e72cf-6326-441e-a37d-d41624c24429"
      },
      "outputs": [],
      "source": [
        "plt.figure(figsize=(7,5))\n",
        "for lab in np.unique(labels):\n",
        "    mask = labels == lab\n",
        "    plt.scatter(X2[mask,0], X2[mask,1], s=30, label=f\"Cluster {lab}\")\n",
        "plt.title(f\"Hierarchical Clustering (k={best_k})\")\n",
        "plt.xlabel(\"PC1\")\n",
        "plt.ylabel(\"PC2\")\n",
        "plt.legend()\n",
        "plt.show()"
      ]
    },
    {
      "cell_type": "code",
      "execution_count": null,
      "metadata": {
        "colab": {
          "base_uri": "https://localhost:8080/"
        },
        "id": "kk2SYAOjjWQW",
        "outputId": "cdf72e8d-d6f1-4282-cd66-380da14b3e26"
      },
      "outputs": [],
      "source": [
        "from sklearn.cluster import DBSCAN\n",
        "X_proc_dense = X_proc.toarray() if hasattr(X_proc, \"toarray\") else X_proc\n",
        "\n",
        "pca = PCA(n_components=2, random_state=42)\n",
        "X2 = pca.fit_transform(X_proc_dense)\n",
        "\n",
        "db = DBSCAN(eps=1.2, min_samples=3)\n",
        "labels = db.fit_predict(X_proc_dense)\n",
        "\n",
        "n_clusters = len(set(labels)) - (1 if -1 in labels else 0)\n",
        "n_noise = list(labels).count(-1)\n",
        "\n",
        "print(f\"Estimated clusters: {n_clusters}\")\n",
        "print(f\"Noise points: {n_noise}\")\n",
        "\n",
        "if n_clusters > 1:\n",
        "    silhouette = silhouette_score(X_proc_dense, labels)\n",
        "    calinski = calinski_harabasz_score(X_proc_dense, labels)\n",
        "    davies = davies_bouldin_score(X_proc_dense, labels)\n",
        "\n",
        "    print(f\"Silhouette Score: {silhouette:.3f}\")\n",
        "    print(f\"Calinski-Harabasz Score: {calinski:.3f}\")\n",
        "    print(f\"Davies-Bouldin Score: {davies:.3f}\")\n",
        "else:\n",
        "    print(\"Metrics not available (only 1 cluster found).\")\n",
        "\n"
      ]
    },
    {
      "cell_type": "code",
      "execution_count": null,
      "metadata": {
        "colab": {
          "base_uri": "https://localhost:8080/",
          "height": 487
        },
        "id": "_426EqcukjGJ",
        "outputId": "0a69b413-2a29-4033-f121-ac9c83359f15"
      },
      "outputs": [],
      "source": [
        "plt.figure(figsize=(7,5))\n",
        "unique_labels = set(labels)\n",
        "for lab in unique_labels:\n",
        "    mask = labels == lab\n",
        "    if lab == -1:\n",
        "        plt.scatter(X2[mask,0], X2[mask,1], s=30, c=\"k\", label=\"Noise\")\n",
        "    else:\n",
        "        plt.scatter(X2[mask,0], X2[mask,1], s=30, label=f\"Cluster {lab}\")\n",
        "plt.title(f\"DBSCAN Clustering (eps=0.8, min_samples=5) → {n_clusters} clusters\")\n",
        "plt.xlabel(\"PC1\")\n",
        "plt.ylabel(\"PC2\")\n",
        "plt.legend()\n",
        "plt.show()\n"
      ]
    },
    {
      "cell_type": "code",
      "execution_count": null,
      "metadata": {},
      "outputs": [],
      "source": [
        "import joblib\n",
        "\n",
        "joblib.dump(best_model, \"model.pkl\")\n",
        "joblib.dump(scaler, \"scaler.pkl\")"
      ]
    }
  ],
  "metadata": {
    "accelerator": "GPU",
    "colab": {
      "gpuType": "T4",
      "provenance": []
    },
    "kernelspec": {
      "display_name": "venv",
      "language": "python",
      "name": "python3"
    },
    "language_info": {
      "codemirror_mode": {
        "name": "ipython",
        "version": 3
      },
      "file_extension": ".py",
      "mimetype": "text/x-python",
      "name": "python",
      "nbconvert_exporter": "python",
      "pygments_lexer": "ipython3",
      "version": "3.12.0"
    }
  },
  "nbformat": 4,
  "nbformat_minor": 0
}
